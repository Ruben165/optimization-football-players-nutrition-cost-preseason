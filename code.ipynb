{
  "nbformat": 4,
  "nbformat_minor": 0,
  "metadata": {
    "colab": {
      "provenance": []
    },
    "kernelspec": {
      "name": "python3",
      "display_name": "Python 3"
    },
    "language_info": {
      "name": "python"
    }
  },
  "cells": [
    {
      "cell_type": "markdown",
      "source": [
        "2540124633 - Lie Reubensto\n",
        "\n",
        "Applied Mathematics Modeling Project\n",
        "\n",
        "Validation with Program"
      ],
      "metadata": {
        "id": "bZrFyG_GsIfv"
      }
    },
    {
      "cell_type": "code",
      "execution_count": null,
      "metadata": {
        "colab": {
          "base_uri": "https://localhost:8080/"
        },
        "id": "R8AtT0uNsFdK",
        "outputId": "d48afb92-1ea6-492c-ae1e-333b3113e1e3"
      },
      "outputs": [
        {
          "output_type": "stream",
          "name": "stdout",
          "text": [
            "Requirement already satisfied: pulp in /usr/local/lib/python3.10/dist-packages (2.8.0)\n"
          ]
        }
      ],
      "source": [
        "# Install Library PuLP untuk Melakukan Perhitungan Simplex dan Integer Linear Programming (ILP)\n",
        "!pip install pulp"
      ]
    },
    {
      "cell_type": "code",
      "source": [
        "# Import Library untuk Perhitungan Simplex dan ILP\n",
        "import pulp"
      ],
      "metadata": {
        "id": "5KeShufhsYlQ"
      },
      "execution_count": null,
      "outputs": []
    },
    {
      "cell_type": "markdown",
      "source": [
        "# Simplex (Solusi Optimal Sejati)"
      ],
      "metadata": {
        "id": "8SNlqLSyyhq4"
      }
    },
    {
      "cell_type": "code",
      "source": [
        "# Definisikan Kasus Simplex Minimalisasi (Meminimkan Biaya Pembelian Bahan-Bahan Nutrisi)\n",
        "simplex = pulp.LpProblem(\"Simplex_Awal\", pulp.LpMinimize)"
      ],
      "metadata": {
        "id": "Omf1gKWRsR_7"
      },
      "execution_count": null,
      "outputs": []
    },
    {
      "cell_type": "code",
      "source": [
        "# Karakteristik Variabel Penentu\n",
        "x1 = pulp.LpVariable('x1_VitaminB1', lowBound=1.5, upBound=3, cat='Continuous')\n",
        "x2 = pulp.LpVariable('x2_VitaminA', lowBound=700, upBound=900, cat='Continuous')\n",
        "x3 = pulp.LpVariable('x3_VitaminD', lowBound=20, upBound=50, cat='Continuous')\n",
        "x4 = pulp.LpVariable('x4_Iron', lowBound=10, upBound=12, cat='Continuous')\n",
        "x5 = pulp.LpVariable('x5_Zinc', lowBound=11, upBound=15, cat='Continuous')"
      ],
      "metadata": {
        "id": "ae7kNjzs10yn"
      },
      "execution_count": null,
      "outputs": []
    },
    {
      "cell_type": "code",
      "source": [
        "# Fungsi Tujuan\n",
        "simplex += (0.5 * x1) + (0.3 * x2) + (0.2 * x3) + (0.9 * x4) + (0.75 * x5), \"Objective\""
      ],
      "metadata": {
        "id": "gEXXir4p1066"
      },
      "execution_count": null,
      "outputs": []
    },
    {
      "cell_type": "code",
      "source": [
        "# Syarat/Kendala (Constraint)\n",
        "simplex += (1000 * x1) + x2 + x3 >= 2800, \"Constraint 1\"\n",
        "simplex += x4 + x5 >= 23, \"Constraint 2\"\n",
        "simplex += x2 + x3 <= 1000, \"Constraint 3\"\n",
        "simplex += x1 + (1.5 * x4) + x5 <= 32, \"Constraint 4\"\n",
        "simplex += (1000 * x1) + x2 + x3 + (1500 * x4) + (1000 * x5) <= 34000, \"Constraint 5\""
      ],
      "metadata": {
        "id": "76jc8WSD11Cw"
      },
      "execution_count": null,
      "outputs": []
    },
    {
      "cell_type": "code",
      "source": [
        "# Mencari Hasil Optimal\n",
        "simplex.solve()"
      ],
      "metadata": {
        "colab": {
          "base_uri": "https://localhost:8080/"
        },
        "id": "lpb9PciY11KY",
        "outputId": "1caea7b3-dbe6-4ad5-b7ae-113228e26630"
      },
      "execution_count": null,
      "outputs": [
        {
          "output_type": "execute_result",
          "data": {
            "text/plain": [
              "1"
            ]
          },
          "metadata": {},
          "execution_count": 112
        }
      ]
    },
    {
      "cell_type": "code",
      "source": [
        "# Arti dari Output solve()\n",
        "pulp.LpStatus"
      ],
      "metadata": {
        "colab": {
          "base_uri": "https://localhost:8080/"
        },
        "id": "PeXp6mRV2iQf",
        "outputId": "dc8162bf-ac24-465e-cbf2-287ca44b94ec"
      },
      "execution_count": null,
      "outputs": [
        {
          "output_type": "execute_result",
          "data": {
            "text/plain": [
              "{0: 'Not Solved',\n",
              " 1: 'Optimal',\n",
              " -1: 'Infeasible',\n",
              " -2: 'Unbounded',\n",
              " -3: 'Undefined'}"
            ]
          },
          "metadata": {},
          "execution_count": 113
        }
      ]
    },
    {
      "cell_type": "code",
      "source": [
        "# Print Status Hasil (Apakah Optimal atau Tidak)\n",
        "print(\"Status:\", pulp.LpStatus[simplex.status])"
      ],
      "metadata": {
        "colab": {
          "base_uri": "https://localhost:8080/"
        },
        "id": "CtZxus7c11SH",
        "outputId": "85e48043-94c4-48a1-d0c6-bd2e8bede192"
      },
      "execution_count": null,
      "outputs": [
        {
          "output_type": "stream",
          "name": "stdout",
          "text": [
            "Status: Optimal\n"
          ]
        }
      ]
    },
    {
      "cell_type": "code",
      "source": [
        "# Print Nilai Optimal Setiap Variabel Penentu\n",
        "print(\"Optimal values:\")\n",
        "for variable in simplex.variables():\n",
        "    print(f\"{variable.name} = {variable.varValue}\")"
      ],
      "metadata": {
        "colab": {
          "base_uri": "https://localhost:8080/"
        },
        "id": "1Vbxjlad11aT",
        "outputId": "8832fc3b-a97a-4764-a377-02539d176b59"
      },
      "execution_count": null,
      "outputs": [
        {
          "output_type": "stream",
          "name": "stdout",
          "text": [
            "Optimal values:\n",
            "x1_VitaminB1 = 2.08\n",
            "x2_VitaminA = 700.0\n",
            "x3_VitaminD = 20.0\n",
            "x4_Iron = 10.0\n",
            "x5_Zinc = 13.0\n"
          ]
        }
      ]
    },
    {
      "cell_type": "code",
      "source": [
        "# Print Hasil Optimal Fungsi Tujuan\n",
        "print(\"Optimal objective function value:\", pulp.value(simplex.objective))"
      ],
      "metadata": {
        "colab": {
          "base_uri": "https://localhost:8080/"
        },
        "id": "IJQqQ_-h11gw",
        "outputId": "42c75962-8048-4d85-b3f2-bcc6e9fa5292"
      },
      "execution_count": null,
      "outputs": [
        {
          "output_type": "stream",
          "name": "stdout",
          "text": [
            "Optimal objective function value: 233.79\n"
          ]
        }
      ]
    },
    {
      "cell_type": "markdown",
      "source": [
        "# Integer Linear Programming (Solusi Optimal dengan Variabel Penentu Integer)"
      ],
      "metadata": {
        "id": "zh6JeBbTynOF"
      }
    },
    {
      "cell_type": "code",
      "source": [
        "# Definisikan Kasus ILP Minimalisasi (Meminimkan Biaya Pembelian Bahan-Bahan Nutrisi)\n",
        "ilp = pulp.LpProblem(\"ILP\", pulp.LpMinimize)"
      ],
      "metadata": {
        "id": "bHhGnor8yzCI"
      },
      "execution_count": null,
      "outputs": []
    },
    {
      "cell_type": "code",
      "source": [
        "# Karakteristik Variabel Penentu\n",
        "y1 = pulp.LpVariable('y1_VitaminB1', lowBound=1.5, upBound=3, cat='Continuous')\n",
        "y2 = pulp.LpVariable('y2_VitaminA', lowBound=700, upBound=900, cat='Continuous')\n",
        "y3 = pulp.LpVariable('y3_VitaminD', lowBound=20, upBound=50, cat='Continuous')\n",
        "y4 = pulp.LpVariable('y4_Iron', lowBound=10, upBound=12, cat='Integer')\n",
        "y5 = pulp.LpVariable('y5_Zinc', lowBound=11, upBound=15, cat='Integer')"
      ],
      "metadata": {
        "id": "1y8QzexszH1i"
      },
      "execution_count": null,
      "outputs": []
    },
    {
      "cell_type": "code",
      "source": [
        "# Fungsi Tujuan\n",
        "ilp += (0.5 * y1) + (0.3 * y2) + (0.2 * y3) + (0.9 * y4) + (0.75 * y5), \"Objective\""
      ],
      "metadata": {
        "id": "Y4f1dGTszH5b"
      },
      "execution_count": null,
      "outputs": []
    },
    {
      "cell_type": "code",
      "source": [
        "# Syarat/Kendala (Constraint)\n",
        "ilp += (1000 * y1) + y2 + y3 >= 2800, \"Constraint 1\"\n",
        "ilp += y4 + y5 >= 23, \"Constraint 2\"\n",
        "ilp += y2 + y3 <= 1000, \"Constraint 3\"\n",
        "ilp += y1 + (1.5 * y4) + y5 <= 32, \"Constraint 4\"\n",
        "ilp += (1000 * y1) + y2 + y3 + (1500 * y4) + (1000 * y5) <= 34000, \"Constraint 5\""
      ],
      "metadata": {
        "id": "xpw_t6qzzH92"
      },
      "execution_count": null,
      "outputs": []
    },
    {
      "cell_type": "code",
      "source": [
        "# Mencari Hasil Optimal\n",
        "ilp.solve()"
      ],
      "metadata": {
        "colab": {
          "base_uri": "https://localhost:8080/"
        },
        "id": "LHWKsEgZzIDJ",
        "outputId": "a11c2141-ceeb-49f3-ade1-2f9f489cda0c"
      },
      "execution_count": null,
      "outputs": [
        {
          "output_type": "execute_result",
          "data": {
            "text/plain": [
              "1"
            ]
          },
          "metadata": {},
          "execution_count": 121
        }
      ]
    },
    {
      "cell_type": "code",
      "source": [
        "# Print Status Hasil (Apakah Optimal atau Tidak)\n",
        "print(\"Status:\", pulp.LpStatus[ilp.status])"
      ],
      "metadata": {
        "colab": {
          "base_uri": "https://localhost:8080/"
        },
        "id": "SfeIBuGozII3",
        "outputId": "c6795da2-9ced-4529-c5e3-0d53853d2358"
      },
      "execution_count": null,
      "outputs": [
        {
          "output_type": "stream",
          "name": "stdout",
          "text": [
            "Status: Optimal\n"
          ]
        }
      ]
    },
    {
      "cell_type": "code",
      "source": [
        "# Print Nilai Optimal Setiap Variabel Penentu\n",
        "print(\"Optimal values:\")\n",
        "for variable in ilp.variables():\n",
        "    print(f\"{variable.name} = {variable.varValue}\")"
      ],
      "metadata": {
        "colab": {
          "base_uri": "https://localhost:8080/"
        },
        "id": "rNByrxdBzINy",
        "outputId": "c08f5543-fb12-41cf-ef31-abeea4289345"
      },
      "execution_count": null,
      "outputs": [
        {
          "output_type": "stream",
          "name": "stdout",
          "text": [
            "Optimal values:\n",
            "y1_VitaminB1 = 2.08\n",
            "y2_VitaminA = 700.0\n",
            "y3_VitaminD = 20.0\n",
            "y4_Iron = 10.0\n",
            "y5_Zinc = 13.0\n"
          ]
        }
      ]
    },
    {
      "cell_type": "code",
      "source": [
        "# Print Hasil Optimal Fungsi Tujuan\n",
        "print(\"Optimal objective function value:\", pulp.value(ilp.objective))"
      ],
      "metadata": {
        "colab": {
          "base_uri": "https://localhost:8080/"
        },
        "id": "-AUTiE-1zITU",
        "outputId": "d5377804-64f7-42f9-bf62-167f3ebab01f"
      },
      "execution_count": null,
      "outputs": [
        {
          "output_type": "stream",
          "name": "stdout",
          "text": [
            "Optimal objective function value: 233.79\n"
          ]
        }
      ]
    },
    {
      "cell_type": "markdown",
      "source": [
        "# Integer Linear Programming (Skenario Mendadak)"
      ],
      "metadata": {
        "id": "8kEjZUgqztCl"
      }
    },
    {
      "cell_type": "code",
      "source": [
        "# Definisikan Kasus ILP Minimalisasi (Meminimkan Biaya Pembelian Bahan-Bahan Nutrisi)\n",
        "ilp_other = pulp.LpProblem(\"ILP_SkenarioMendadak\", pulp.LpMinimize)"
      ],
      "metadata": {
        "id": "L9lnGMC3zwtm"
      },
      "execution_count": null,
      "outputs": []
    },
    {
      "cell_type": "code",
      "source": [
        "# Karakteristik Variabel Penentu\n",
        "z1 = pulp.LpVariable('z1_VitaminB1', lowBound=1.5, upBound=3, cat='Integer')\n",
        "z2 = pulp.LpVariable('z2_VitaminA', lowBound=700, upBound=900, cat='Continuous')\n",
        "z3 = pulp.LpVariable('z3_VitaminD', lowBound=20, upBound=50, cat='Continuous')\n",
        "z4 = pulp.LpVariable('z4_Iron', lowBound=10, upBound=12, cat='Integer')\n",
        "z5 = pulp.LpVariable('z5_Zinc', lowBound=11, upBound=15, cat='Integer')"
      ],
      "metadata": {
        "id": "irrQ9oATzzC2"
      },
      "execution_count": null,
      "outputs": []
    },
    {
      "cell_type": "code",
      "source": [
        "# Fungsi Tujuan\n",
        "ilp_other += (0.5 * z1) + (0.3 * z2) + (0.2 * z3) + (0.9 * z4) + (0.75 * z5), \"Objective\""
      ],
      "metadata": {
        "id": "toYX6fJFzzHj"
      },
      "execution_count": null,
      "outputs": []
    },
    {
      "cell_type": "code",
      "source": [
        "# Syarat/Kendala (Constraint)\n",
        "ilp_other += (1000 * z1) + z2 + z3 >= 2800, \"Constraint 1\"\n",
        "ilp_other += z4 + z5 >= 23, \"Constraint 2\"\n",
        "ilp_other += z2 + z3 <= 1000, \"Constraint 3\"\n",
        "ilp_other += z1 + (1.5 * z4) + z5 <= 32, \"Constraint 4\"\n",
        "ilp_other += (1000 * z1) + z2 + z3 + (1500 * z4) + (1000 * z5) <= 34000, \"Constraint 5\""
      ],
      "metadata": {
        "id": "Hmlx2J49zzMP"
      },
      "execution_count": null,
      "outputs": []
    },
    {
      "cell_type": "code",
      "source": [
        "# Mencari Hasil Optimal\n",
        "ilp_other.solve()"
      ],
      "metadata": {
        "colab": {
          "base_uri": "https://localhost:8080/"
        },
        "id": "elQF4jzxzzP_",
        "outputId": "23c0e4f9-f599-4338-e075-a3c76b2b4206"
      },
      "execution_count": null,
      "outputs": [
        {
          "output_type": "execute_result",
          "data": {
            "text/plain": [
              "1"
            ]
          },
          "metadata": {},
          "execution_count": 129
        }
      ]
    },
    {
      "cell_type": "code",
      "source": [
        "# Print Status Hasil (Apakah Optimal atau Tidak)\n",
        "print(\"Status:\", pulp.LpStatus[ilp_other.status])"
      ],
      "metadata": {
        "colab": {
          "base_uri": "https://localhost:8080/"
        },
        "id": "PEkmX63wzzTW",
        "outputId": "7ef24efa-c083-4830-def5-b0092c887435"
      },
      "execution_count": null,
      "outputs": [
        {
          "output_type": "stream",
          "name": "stdout",
          "text": [
            "Status: Optimal\n"
          ]
        }
      ]
    },
    {
      "cell_type": "code",
      "source": [
        "# Print Nilai Optimal Setiap Variabel Penentu\n",
        "print(\"Optimal values:\")\n",
        "for variable in ilp_other.variables():\n",
        "    print(f\"{variable.name} = {variable.varValue}\")"
      ],
      "metadata": {
        "colab": {
          "base_uri": "https://localhost:8080/"
        },
        "id": "FFoAD6d4z4y1",
        "outputId": "1133f934-1e68-42ba-e3f1-718cd21dc9a3"
      },
      "execution_count": null,
      "outputs": [
        {
          "output_type": "stream",
          "name": "stdout",
          "text": [
            "Optimal values:\n",
            "z1_VitaminB1 = 3.0\n",
            "z2_VitaminA = 700.0\n",
            "z3_VitaminD = 20.0\n",
            "z4_Iron = 10.0\n",
            "z5_Zinc = 13.0\n"
          ]
        }
      ]
    },
    {
      "cell_type": "code",
      "source": [
        "# Print Hasil Optimal Fungsi Tujuan\n",
        "print(\"Optimal objective function value:\", pulp.value(ilp_other.objective))"
      ],
      "metadata": {
        "colab": {
          "base_uri": "https://localhost:8080/"
        },
        "id": "6Smh5sfcz41N",
        "outputId": "edf73314-4407-4210-efab-81272b92545e"
      },
      "execution_count": null,
      "outputs": [
        {
          "output_type": "stream",
          "name": "stdout",
          "text": [
            "Optimal objective function value: 234.25\n"
          ]
        }
      ]
    }
  ]
}
